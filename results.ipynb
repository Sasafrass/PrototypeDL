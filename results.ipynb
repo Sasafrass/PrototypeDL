{
 "cells": [
  {
   "cell_type": "markdown",
   "metadata": {},
   "source": [
    "# Hierarchical Prototypes for Deep Learning\n",
    "In this notebook, we briefly show the results listed in our paper. "
   ]
  },
  {
   "cell_type": "markdown",
   "metadata": {},
   "source": [
    "## Importing and getting everything ready"
   ]
  },
  {
   "cell_type": "code",
   "execution_count": null,
   "metadata": {},
   "outputs": [],
   "source": [
    "import os, sys\n",
    "sys.path.append('src')"
   ]
  },
  {
   "cell_type": "code",
   "execution_count": null,
   "metadata": {},
   "outputs": [],
   "source": [
    "import numpy as np\n",
    "import warnings\n",
    "import time\n",
    "import torch \n",
    "import argparse\n",
    "import matplotlib.pyplot as plt\n",
    "import matplotlib.image as mpimg\n",
    "from src.preprocessing import batch_elastic_transform\n",
    "from src.train import train_MNIST, load_and_test"
   ]
  },
  {
   "cell_type": "code",
   "execution_count": null,
   "metadata": {},
   "outputs": [],
   "source": [
    "# Set device in case of training\n",
    "# Turn off warnings for loading model\n",
    "device = torch.device('cuda' if torch.cuda.is_available() else 'cpu')\n",
    "warnings.filterwarnings('ignore')"
   ]
  },
  {
   "cell_type": "code",
   "execution_count": null,
   "metadata": {},
   "outputs": [],
   "source": [
    "# load fully trained models\n",
    "hierarchy_model_path = './Pre-trainedModels/hierarchy_model.pth'\n",
    "standard_model_path = './Pre-trainedModels/standard_model.pth'\n",
    "\n",
    "hierarchy_model = torch.load(hierarchy_model_path, map_location=torch.device(device))\n",
    "standard_model = torch.load(standard_model_path, map_location=torch.device(device))\n",
    "hierarchy_model.eval()\n",
    "standard_model.eval()"
   ]
  },
  {
   "cell_type": "markdown",
   "metadata": {},
   "source": [
    "### Define function for visualization"
   ]
  },
  {
   "cell_type": "code",
   "execution_count": null,
   "metadata": {},
   "outputs": [],
   "source": [
    "def show_prototypes(prototype_set, **kwargs):\n",
    "    \"\"\"\n",
    "    input: numpy set of prototypes\n",
    "    displays all the prototypes in the input\n",
    "    \"\"\"\n",
    "    fig, ax = plt.subplots(len(prototype_set)//5 ,5)\n",
    "    col = 0\n",
    "    for i, img in enumerate(prototype_set):\n",
    "        if i % 5 == 0 and i != 0:\n",
    "            col += 1\n",
    "        ax[col,i%5].imshow(img[0], cmap='gray')"
   ]
  },
  {
   "cell_type": "markdown",
   "metadata": {},
   "source": [
    "# Nonhierarchical model\n",
    "This is to reproduce the author's original model."
   ]
  },
  {
   "cell_type": "markdown",
   "metadata": {},
   "source": [
    "### Prototype results"
   ]
  },
  {
   "cell_type": "code",
   "execution_count": null,
   "metadata": {},
   "outputs": [],
   "source": [
    "# Fetch and convert prototypes\n",
    "standard_prototypes = standard_model.prototype.get_prototypes()\n",
    "standard_prototype_img = standard_model.decoder(standard_prototypes.view(-1, 10, 2, 2))"
   ]
  },
  {
   "cell_type": "code",
   "execution_count": null,
   "metadata": {},
   "outputs": [],
   "source": [
    "# Get a numerical representation of our prototypes\n",
    "_, decoding, (r_1, r_2, c) = standard_model(standard_prototype_img)\n",
    "pred = torch.argmax(c, dim=1)\n",
    "# Sort the images in accending order\n",
    "merged = zip(pred, standard_prototype_img.cpu().detach().numpy())\n",
    "mergedlist = list(merged)\n",
    "mergedlist.sort(key=lambda x: x[0])\n",
    "imgs = np.array([x[1] for x in mergedlist])\n",
    "# display prototypes\n",
    "show_prototypes(imgs)"
   ]
  },
  {
   "cell_type": "markdown",
   "metadata": {},
   "source": [
    "### Weight matrix\n",
    "Below, the prototype images can be seen, followed by the argmin (maximum activation) of the weight matrix and the actual weights."
   ]
  },
  {
   "cell_type": "code",
   "execution_count": null,
   "metadata": {},
   "outputs": [],
   "source": [
    "show_prototypes(standard_prototype_img.cpu().detach().numpy())"
   ]
  },
  {
   "cell_type": "code",
   "execution_count": null,
   "metadata": {},
   "outputs": [],
   "source": [
    "# Weight matrices\n",
    "learned_weights = standard_model.prototype.linear1.weight.cpu().detach().numpy().T\n",
    "print(\"Maximum weights per column correspond to qualitative prototypes!\")\n",
    "print(learned_weights.argmin(axis=1).reshape(3,5))\n",
    "\n",
    "print(\"---\")\n",
    "print(\"Actual weights\")\n",
    "print(np.array_str(learned_weights, precision=3, suppress_small=True))\n"
   ]
  },
  {
   "cell_type": "markdown",
   "metadata": {},
   "source": [
    "## Test Model"
   ]
  },
  {
   "cell_type": "code",
   "execution_count": null,
   "metadata": {},
   "outputs": [],
   "source": [
    "load_and_test(standard_model_path, hierarchical = False)"
   ]
  },
  {
   "cell_type": "markdown",
   "metadata": {},
   "source": [
    "# Hierarchical model"
   ]
  },
  {
   "cell_type": "markdown",
   "metadata": {},
   "source": [
    "### Prototype results"
   ]
  },
  {
   "cell_type": "code",
   "execution_count": null,
   "metadata": {},
   "outputs": [],
   "source": [
    "prototypes = hierarchy_model.prototype.get_prototypes()\n",
    "sub_prototypes = hierarchy_model.prototype.get_sub_prototypes()"
   ]
  },
  {
   "cell_type": "code",
   "execution_count": null,
   "metadata": {},
   "outputs": [],
   "source": [
    "# convert the prototypes\n",
    "prototype_img = hierarchy_model.decoder(prototypes.view(-1, 10, 2, 2))\n",
    "sub_prototype_img = hierarchy_model.decoder(sub_prototypes.view(-1, 10, 2, 2))"
   ]
  },
  {
   "cell_type": "code",
   "execution_count": null,
   "metadata": {},
   "outputs": [],
   "source": [
    "# show prototypes\n",
    "show_prototypes(prototype_img.cpu().detach().numpy())"
   ]
  },
  {
   "cell_type": "code",
   "execution_count": null,
   "metadata": {},
   "outputs": [],
   "source": [
    "# Get numerical representation of our prototypes\n",
    "_, decoding, (sub_c, sup_c, r1, r2, r3, r4)  = hierarchy_model(sub_prototype_img)\n",
    "pred = torch.argmax(sub_c, dim=1)\n",
    "# Sort the prototypes in asccending order\n",
    "merged = zip(pred, sub_prototype_img.cpu().detach().numpy())\n",
    "mergedlist = list(merged)\n",
    "mergedlist.sort(key=lambda x: x[0])\n",
    "imgs = np.array([x[1] for x in mergedlist])\n",
    "# Display prototypes\n",
    "show_prototypes(imgs)"
   ]
  },
  {
   "cell_type": "markdown",
   "metadata": {},
   "source": [
    "### Weight matrix for subprototypes\n",
    "This is the weight matrix that is also shown in the appendix of the paper."
   ]
  },
  {
   "cell_type": "code",
   "execution_count": null,
   "metadata": {},
   "outputs": [],
   "source": [
    "print(\"These prototypes correspond to the weight matrix below!\")\n",
    "show_prototypes(sub_prototype_img.cpu().detach().numpy())"
   ]
  },
  {
   "cell_type": "code",
   "execution_count": null,
   "metadata": {},
   "outputs": [],
   "source": [
    "# Weight matrices\n",
    "learned_weights = hierarchy_model.prototype.linear2.weight.cpu().detach().numpy().T\n",
    "print(\"Maximum weights per column (roughly) correspond to qualitative prototypes\")\n",
    "print(learned_weights.argmin(axis=1).reshape(4,5))\n",
    "\n",
    "print(\"---\")\n",
    "print(\"Actual weights\")\n",
    "print(np.array_str(learned_weights, precision=3, suppress_small=True))\n"
   ]
  },
  {
   "cell_type": "markdown",
   "metadata": {},
   "source": [
    "### Test model"
   ]
  },
  {
   "cell_type": "code",
   "execution_count": null,
   "metadata": {},
   "outputs": [],
   "source": [
    "load_and_test(hierarchy_model_path, hierarchical = True)"
   ]
  },
  {
   "cell_type": "markdown",
   "metadata": {},
   "source": [
    "# Training example\n",
    "This code runs the hierarchical prototype network with default parameters as used in our paper. Prototype image results are saved in a separate directory. "
   ]
  },
  {
   "cell_type": "code",
   "execution_count": null,
   "metadata": {},
   "outputs": [],
   "source": [
    "# Global parameters for device and reproducibility\n",
    "seed = 42\n",
    "device = torch.device('cuda' if torch.cuda.is_available() else 'cpu')\n",
    "hierarchical = True\n",
    "# Globals\n",
    "learning_rate = 0.0001\n",
    "training_epochs = 1500\n",
    "batch_size = 250\n",
    "\n",
    "sigma = 4\n",
    "alpha = 20\n",
    "n_prototypes = 10\n",
    "n_sub_prototypes = 20\n",
    "latent_size = 40\n",
    "n_classes = 10\n",
    "save_every = 1\n",
    "underrepresented_class = -1\n",
    "\n",
    "lambda_dict = { \n",
    "    'lambda_class' : 20, \n",
    "    'lambda_class_sup' : 20,\n",
    "    'lambda_class_sub' : 20,\n",
    "    'lambda_ae' : 1,\n",
    "    'lambda_r1' : 1,\n",
    "    'lambda_r2' : 1,\n",
    "    'lambda_r3' : 1,\n",
    "    'lambda_r4' : 1\n",
    "}\n",
    "\n",
    "result_directory = './notebook_results'"
   ]
  },
  {
   "cell_type": "code",
   "execution_count": null,
   "metadata": {},
   "outputs": [],
   "source": [
    "\"\"\"\n",
    "Args:\n",
    "    Input:\n",
    "      Model parameters\n",
    "        hierarchical : Boolean: Is the model hierarchical?\n",
    "        n_prototypes : The amount of prototypes. When hierarchical is set to true, this is the amount of superprototypes.\n",
    "        n_sub_prototypes : The amount of subprototypes. Will be ignored if hierarchical is set to false.\n",
    "        latent_size : Size of the latent space\n",
    "        n_classes : Amount of classes \n",
    "        lambda_dict : Dictionary containing all necessary lambda's for the weighted loss equation\n",
    "      Training parameters\n",
    "        learning_rate : \n",
    "        training_epochs : \n",
    "        batch_size : \n",
    "        save_every : how often to save images and models?\n",
    "      Miscellaneous\n",
    "        sigma, alpha : Parameters for elastic deformation. Only used for train data\n",
    "        directory : Directory to save results, prototype images and final model.\n",
    "        underrepresented  : The class that is to be downsampled (0.25 to 1 for all other classes)\n",
    "                    When it is set to -1, no class is downsampled.\n",
    "\"\"\"\n",
    "train_MNIST(\n",
    "    hierarchical, \n",
    "    n_prototypes, \n",
    "    n_sub_prototypes, \n",
    "    latent_size, \n",
    "    n_classes, \n",
    "    lambda_dict, \n",
    "    learning_rate, \n",
    "    training_epochs, \n",
    "    batch_size, \n",
    "    save_every, \n",
    "    sigma, \n",
    "    alpha, \n",
    "    seed, \n",
    "    result_directory,\n",
    "    underrepresented_class)"
   ]
  },
  {
   "cell_type": "code",
   "execution_count": null,
   "metadata": {},
   "outputs": [],
   "source": []
  }
 ],
 "metadata": {
  "kernelspec": {
   "display_name": "Python 3",
   "language": "python",
   "name": "python3"
  },
  "language_info": {
   "codemirror_mode": {
    "name": "ipython",
    "version": 3
   },
   "file_extension": ".py",
   "mimetype": "text/x-python",
   "name": "python",
   "nbconvert_exporter": "python",
   "pygments_lexer": "ipython3",
   "version": "3.7.3"
  }
 },
 "nbformat": 4,
 "nbformat_minor": 2
}
