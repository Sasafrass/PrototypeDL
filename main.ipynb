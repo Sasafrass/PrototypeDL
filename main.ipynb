{
 "cells": [
  {
   "cell_type": "code",
   "execution_count": 1,
   "metadata": {},
   "outputs": [],
   "source": [
    "from train import train_MNIST, load_and_test"
   ]
  },
  {
   "cell_type": "markdown",
   "metadata": {},
   "source": [
    "# Training and testing a new model"
   ]
  },
  {
   "cell_type": "code",
   "execution_count": 4,
   "metadata": {},
   "outputs": [
    {
     "name": "stdout",
     "output_type": "stream",
     "text": [
      "Epoch: 0 loss: 84.40394531885782 acc: 0.09751666666666652 sub_acc: 0.0\n",
      "Testdata loss: 72.98033123016357 acc: 0.09740000000000006 sub acc: 0.0\n",
      "Reproduced results: 72.98033123016357 0.09740000000000006 0.0\n",
      "Epoch: 0 loss: 122.20373544692993 acc: 0.09923333333333322 sub_acc: 0.09914999999999992\n",
      "Testdata loss: 116.13876972198486 acc: 0.10280000000000007 sub acc: 0.10090000000000003\n",
      "Hierarchical results: 116.13876972198486 0.10280000000000007 0.10090000000000003\n"
     ]
    }
   ],
   "source": [
    "# Trains an entire model and saves it to ./from_jupyter/models/final.pt(h)\n",
    "# None of the parameters are required\n",
    "# This code runs our two models with default parameters as described in the paper:\n",
    "# Learning rate 0.0001, epochs = 1500\n",
    "# Nonhierarchical with n_prototypes = 15 (reproduced results)\n",
    "# Hierarchical with n_prototypes = 10 and n_sub_prototypes = 20 \n",
    "\n",
    "seed = 42\n",
    "lambda_dict = {'lambda_class' : 20, \n",
    "                    'lambda_class_sup' : 20,\n",
    "                    'lambda_class_sub' : 20,\n",
    "                    'lambda_ae' : 1,\n",
    "                    'lambda_r1' : 1,\n",
    "                    'lambda_r2' : 1,\n",
    "                    'lambda_r3' : 1,\n",
    "                    'lambda_r4' : 1}\n",
    "\n",
    "test_loss, test_acc, test_subacc = train_MNIST(training_epochs=1, hierarchical = False, seed = seed, directory='from_jupyter', lambda_dict = lambda_dict)\n",
    "\n",
    "print(\"Reproduced results:\", test_loss, test_acc, test_subacc)\n",
    "\n",
    "\n",
    "test_lossH, test_accH, test_subaccH = train_MNIST(training_epochs=1, hierarchical=True)\n",
    "\n",
    "\n",
    "print(\"Hierarchical results:\", test_lossH, test_accH, test_subaccH)"
   ]
  },
  {
   "cell_type": "code",
   "execution_count": null,
   "metadata": {},
   "outputs": [],
   "source": []
  },
  {
   "cell_type": "markdown",
   "metadata": {},
   "source": [
    "# Loading an existing model and running it on test set"
   ]
  },
  {
   "cell_type": "code",
   "execution_count": null,
   "metadata": {},
   "outputs": [],
   "source": [
    "#load_and_test('normal1/models/final.pth', False )\n",
    "#load_and_test('hierarchical1/models/final.pth', True)"
   ]
  }
 ],
 "metadata": {
  "kernelspec": {
   "display_name": "Python 3",
   "language": "python",
   "name": "python3"
  },
  "language_info": {
   "codemirror_mode": {
    "name": "ipython",
    "version": 3
   },
   "file_extension": ".py",
   "mimetype": "text/x-python",
   "name": "python",
   "nbconvert_exporter": "python",
   "pygments_lexer": "ipython3",
   "version": "3.7.3"
  }
 },
 "nbformat": 4,
 "nbformat_minor": 2
}
