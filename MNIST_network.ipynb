{
 "cells": [
  {
   "cell_type": "code",
   "execution_count": null,
   "metadata": {},
   "outputs": [],
   "source": []
  },
  {
   "cell_type": "code",
   "execution_count": 1,
   "metadata": {},
   "outputs": [
    {
     "ename": "ModuleNotFoundError",
     "evalue": "No module named 'torch'",
     "output_type": "error",
     "traceback": [
      "\u001b[0;31m---------------------------------------------------------------------------\u001b[0m",
      "\u001b[0;31mModuleNotFoundError\u001b[0m                       Traceback (most recent call last)",
      "\u001b[0;32m<ipython-input-1-36652ab401db>\u001b[0m in \u001b[0;36m<module>\u001b[0;34m\u001b[0m\n\u001b[1;32m      1\u001b[0m \u001b[0;32mimport\u001b[0m \u001b[0mnumpy\u001b[0m \u001b[0;32mas\u001b[0m \u001b[0mnp\u001b[0m\u001b[0;34m\u001b[0m\u001b[0;34m\u001b[0m\u001b[0m\n\u001b[1;32m      2\u001b[0m \u001b[0;32mimport\u001b[0m \u001b[0mos\u001b[0m\u001b[0;34m\u001b[0m\u001b[0;34m\u001b[0m\u001b[0m\n\u001b[0;32m----> 3\u001b[0;31m \u001b[0;32mimport\u001b[0m \u001b[0mtorch\u001b[0m\u001b[0;34m\u001b[0m\u001b[0;34m\u001b[0m\u001b[0m\n\u001b[0m\u001b[1;32m      4\u001b[0m \u001b[0;32mimport\u001b[0m \u001b[0mtorch\u001b[0m\u001b[0;34m.\u001b[0m\u001b[0mnn\u001b[0m \u001b[0;32mas\u001b[0m \u001b[0mnn\u001b[0m\u001b[0;34m\u001b[0m\u001b[0;34m\u001b[0m\u001b[0m\n\u001b[1;32m      5\u001b[0m \u001b[0;32mfrom\u001b[0m \u001b[0mtorchvision\u001b[0m\u001b[0;34m.\u001b[0m\u001b[0mdatasets\u001b[0m \u001b[0;32mimport\u001b[0m \u001b[0mMNIST\u001b[0m\u001b[0;34m\u001b[0m\u001b[0;34m\u001b[0m\u001b[0m\n",
      "\u001b[0;31mModuleNotFoundError\u001b[0m: No module named 'torch'"
     ]
    }
   ],
   "source": [
    "import numpy as np\n",
    "import os\n",
    "import torch \n",
    "import torch.nn as nn\n",
    "from torchvision.datasets import MNIST\n",
    "from torch.utils.data import DataLoader\n",
    "import torchvision.transforms as transforms\n",
    "from torch.nn.functional import one_hot\n",
    "from torchvision.utils import save_image\n",
    "from preprocessing import batch_elastic_transform\n",
    "from model import PrototypeModel\n",
    "from train import save_images, run_epoch"
   ]
  },
  {
   "cell_type": "code",
   "execution_count": null,
   "metadata": {},
   "outputs": [],
   "source": [
    "# Global parameters for device and reproducibility\n",
    "torch.manual_seed(7)\n",
    "device = torch.device('cuda' if torch.cuda.is_available() else 'cpu')\n",
    "\n",
    "# Globals\n",
    "learning_rate = 0.0001\n",
    "training_epoch = 1500\n",
    "batch_size = 250\n",
    "\n",
    "sigma = 4\n",
    "alpha = 20\n",
    "n_prototypes = 15\n",
    "latent_size = 40\n",
    "n_classes = 10\n",
    "\n",
    "lambda_class = 20\n",
    "lambda_ae = 1\n",
    "lambda_1 = 1              # 1 and 2 here corresponds to the notation we used in the paper\n",
    "lambda_2 = 1\n",
    "\n",
    "model_path = 'models/'\n",
    "prototype_path = 'images/prototypes/'\n",
    "decoding_path = 'images/decoding/'"
   ]
  },
  {
   "cell_type": "code",
   "execution_count": null,
   "metadata": {},
   "outputs": [],
   "source": [
    "# Load data\n",
    "train_data = MNIST('./data', train=True, download=True, transform=transforms.Compose([\n",
    "                                            transforms.ToTensor(),\n",
    "                                        ]))\n",
    "test_data = MNIST('./data', train=False, download=True,transform=transforms.Compose([\n",
    "                                            transforms.ToTensor(),\n",
    "                                        ]))\n",
    "\n",
    "\n",
    "### Initialize the model and the optimizer.\n",
    "proto = PrototypeModel(15, 40, 10).to(device)\n",
    "optim = torch.optim.Adam(proto.parameters(), lr=learning_rate)\n",
    "dataloader = DataLoader(train_data, batch_size=batch_size)\n",
    "\n",
    "# Run for a number of epochs\n",
    "for epoch in range(training_epochs):\n",
    "    epoch_loss = 0.0\n",
    "    epoch_acc = 0.0\n",
    "    it = 0\n",
    "\n",
    "    it, epoch_loss, epoch_acc, dec = run_epoch(proto, dataloader, optim, it, epoch_loss, epoch_acc)\n",
    "\n",
    "    # Get prototypes and decode them to display\n",
    "    prototypes = proto.prototype.get_prototypes()\n",
    "    prototypes = prototypes.view(-1, 10, 2, 2)\n",
    "    imgs = proto.decoder(prototypes)\n",
    "\n",
    "    # Save images\n",
    "    save_images(prototype_path, decoding_path, imgs, dec, epoch)\n",
    "\n",
    "    # Save model\n",
    "    if not os.path.exists(model_path):\n",
    "        os.makedirs(model_path)\n",
    "    torch.save(proto, model_path+\"proto.pth\")\n",
    "\n",
    "    # Print statement to check on progress\n",
    "    print(\"Epoch: \", epoch, \"Loss: \", epoch_loss / it, \"Acc: \", epoch_acc/it)"
   ]
  }
 ],
 "metadata": {
  "kernelspec": {
   "display_name": "Python 3",
   "language": "python",
   "name": "python3"
  },
  "language_info": {
   "codemirror_mode": {
    "name": "ipython",
    "version": 3
   },
   "file_extension": ".py",
   "mimetype": "text/x-python",
   "name": "python",
   "nbconvert_exporter": "python",
   "pygments_lexer": "ipython3",
   "version": "3.8.0"
  }
 },
 "nbformat": 4,
 "nbformat_minor": 2
}
